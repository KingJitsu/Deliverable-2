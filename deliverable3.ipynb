{
  "nbformat": 4,
  "nbformat_minor": 0,
  "metadata": {
    "colab": {
      "provenance": [],
      "authorship_tag": "ABX9TyOiOpgJ9APgkC1Q4E9iAq1R",
      "include_colab_link": true
    },
    "kernelspec": {
      "name": "python3",
      "display_name": "Python 3"
    },
    "language_info": {
      "name": "python"
    }
  },
  "cells": [
    {
      "cell_type": "markdown",
      "metadata": {
        "id": "view-in-github",
        "colab_type": "text"
      },
      "source": [
        "<a href=\"https://colab.research.google.com/github/KingJitsu/Deliverable-2/blob/master/deliverable3.ipynb\" target=\"_parent\"><img src=\"https://colab.research.google.com/assets/colab-badge.svg\" alt=\"Open In Colab\"/></a>"
      ]
    },
    {
      "cell_type": "code",
      "execution_count": 1,
      "metadata": {
        "colab": {
          "base_uri": "https://localhost:8080/"
        },
        "id": "NNr340KOcOWa",
        "outputId": "e62b6df2-e356-4f28-e013-f377c86a1987"
      },
      "outputs": [
        {
          "output_type": "stream",
          "name": "stdout",
          "text": [
            "                  mean       std  min   max\n",
            "sepal_length  5.843333  0.828066  4.3   7.9\n",
            "sepal_width   3.057333  0.435866  2.0   4.4\n",
            "petal_length  3.758000  1.765298  1.0   6.9\n",
            "petal_width   1.199333  0.762238  0.1   2.5\n",
            "sepal_sum     8.900667  0.889272  6.8  11.7\n",
            "petal_sum     4.957333  2.507689  1.2   9.2\n"
          ]
        }
      ],
      "source": [
        "import pandas as pd\n",
        "import numpy as np\n",
        "import seaborn as sns\n",
        "\n",
        "# Step (2)\n",
        "iris = sns.load_dataset('iris')\n",
        "\n",
        "# Step (3)\n",
        "iris.drop(columns='species', inplace=True)\n",
        "\n",
        "# Step (4)\n",
        "iris['sepal_sum'] = iris['sepal_length'] + iris['sepal_width']\n",
        "iris['petal_sum'] = iris['petal_length'] + iris['petal_width']\n",
        "\n",
        "# Step (5)\n",
        "summary_stats = iris.describe().loc[['mean', 'std', 'min', 'max']].transpose()\n",
        "summary_stats.rename(columns={'mean': 'mean', 'std': 'std', 'min': 'min', 'max': 'max'}, inplace=True)\n",
        "\n",
        "print(summary_stats)\n"
      ]
    }
  ]
}